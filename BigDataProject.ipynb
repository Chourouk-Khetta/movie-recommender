{
 "cells": [
  {
   "cell_type": "code",
   "execution_count": 1,
   "id": "e52d8c0d-86bb-4378-9dd2-830b1825c098",
   "metadata": {},
   "outputs": [
    {
     "name": "stdout",
     "output_type": "stream",
     "text": [
      "Requirement already satisfied: pyspark in d:\\anaconda\\lib\\site-packages (3.5.1)\n",
      "Requirement already satisfied: py4j==0.10.9.7 in d:\\anaconda\\lib\\site-packages (from pyspark) (0.10.9.7)\n",
      "Note: you may need to restart the kernel to use updated packages.\n"
     ]
    }
   ],
   "source": [
    "pip install pyspark"
   ]
  },
  {
   "cell_type": "code",
   "execution_count": 2,
   "id": "f509be97-0181-424e-9628-cda4b26e3734",
   "metadata": {},
   "outputs": [],
   "source": [
    "from pyspark.sql import SparkSession\n",
    "from pyspark.sql.functions import count\n",
    "\n",
    "spark = SparkSession.builder.appName(\"MovieLensDataAnalysis\").getOrCreate()\n"
   ]
  },
  {
   "cell_type": "code",
   "execution_count": 142,
   "id": "c50317b0-1b44-4afa-9f2b-4f92c8c284b2",
   "metadata": {},
   "outputs": [],
   "source": [
    "movies = spark.read.csv(r'C:\\Users\\Thinkpad\\Desktop\\ml-25m\\movies.csv', header=True, inferSchema=True)\n",
    "ratings = spark.read.csv(r'C:\\Users\\Thinkpad\\Desktop\\ml-25m\\ratings.csv', header=True, inferSchema=True)\n",
    "tags = spark.read.csv(r'C:\\Users\\Thinkpad\\Desktop\\ml-25m\\tags.csv', header=True, inferSchema=True)\n"
   ]
  },
  {
   "cell_type": "code",
   "execution_count": 143,
   "id": "523dfec9",
   "metadata": {},
   "outputs": [
    {
     "name": "stdout",
     "output_type": "stream",
     "text": [
      "+-------+--------------------+--------------------+\n",
      "|movieId|               title|              genres|\n",
      "+-------+--------------------+--------------------+\n",
      "|      1|    Toy Story (1995)|Adventure|Animati...|\n",
      "|      2|      Jumanji (1995)|Adventure|Childre...|\n",
      "|      3|Grumpier Old Men ...|      Comedy|Romance|\n",
      "|      4|Waiting to Exhale...|Comedy|Drama|Romance|\n",
      "|      5|Father of the Bri...|              Comedy|\n",
      "+-------+--------------------+--------------------+\n",
      "only showing top 5 rows\n",
      "\n",
      "+------+-------+------+----------+\n",
      "|userId|movieId|rating| timestamp|\n",
      "+------+-------+------+----------+\n",
      "|     1|    296|   5.0|1147880044|\n",
      "|     1|    306|   3.5|1147868817|\n",
      "|     1|    307|   5.0|1147868828|\n",
      "|     1|    665|   5.0|1147878820|\n",
      "|     1|    899|   3.5|1147868510|\n",
      "+------+-------+------+----------+\n",
      "only showing top 5 rows\n",
      "\n",
      "+------+-------+----------------+----------+\n",
      "|userId|movieId|             tag| timestamp|\n",
      "+------+-------+----------------+----------+\n",
      "|     3|    260|         classic|1439472355|\n",
      "|     3|    260|          sci-fi|1439472256|\n",
      "|     4|   1732|     dark comedy|1573943598|\n",
      "|     4|   1732|  great dialogue|1573943604|\n",
      "|     4|   7569|so bad it's good|1573943455|\n",
      "+------+-------+----------------+----------+\n",
      "only showing top 5 rows\n",
      "\n"
     ]
    }
   ],
   "source": [
    "movies.show(5)\n",
    "ratings.show(5)\n",
    "tags.show(5)"
   ]
  },
  {
   "cell_type": "markdown",
   "id": "f749b0d4-3cdd-427d-b44a-f4f6f4a561c6",
   "metadata": {},
   "source": [
    "## Distribution of Ratings:\n",
    "I started by analyzing the distribution of ratings to understand how users rate movies. Using PySpark's groupBy and agg functions, I counted the number of occurrences for each rating.\n",
    "We group by rating, count the occurrences, and sort the results."
   ]
  },
  {
   "cell_type": "code",
   "execution_count": 72,
   "id": "524d01c9-409e-40b8-bc03-45d0d6bed262",
   "metadata": {},
   "outputs": [
    {
     "name": "stdout",
     "output_type": "stream",
     "text": [
      "+------+-------+\n",
      "|rating|  count|\n",
      "+------+-------+\n",
      "|   0.5| 393068|\n",
      "|   1.0| 776815|\n",
      "|   1.5| 399490|\n",
      "|   2.0|1640868|\n",
      "|   2.5|1262797|\n",
      "|   3.0|4896928|\n",
      "|   3.5|3177318|\n",
      "|   4.0|6639798|\n",
      "|   4.5|2200539|\n",
      "|   5.0|3612474|\n",
      "+------+-------+\n",
      "\n"
     ]
    }
   ],
   "source": [
    "rating_distribution = ratings.groupBy(\"rating\").agg(count(\"rating\").alias(\"count\")).orderBy(\"rating\")\n",
    "rating_distribution.show()"
   ]
  },
  {
   "cell_type": "code",
   "execution_count": 73,
   "id": "b8587b12-440c-4e97-a091-afef381eb9cd",
   "metadata": {},
   "outputs": [
    {
     "data": {
      "image/png": "[encoded data removed]",
      "text/plain": [
       "<Figure size 1000x600 with 1 Axes>"
      ]
     },
     "metadata": {},
     "output_type": "display_data"
    }
   ],
   "source": [
    "import matplotlib.pyplot as plt\n",
    "\n",
    "# Assuming rating_distribution is already defined and created using PySpark\n",
    "\n",
    "# Convert to Pandas DataFrame\n",
    "rating_distribution_pd = rating_distribution.toPandas()\n",
    "\n",
    "# Plot directly using Pandas plotting capabilities\n",
    "rating_distribution_pd.plot(kind='bar', x='rating', y='count', \n",
    "                            figsize=(10, 6), title='Distribution of Ratings')\n",
    "\n",
    "# Add labels and grid\n",
    "plt.xlabel('Rating')\n",
    "plt.ylabel('Count')\n",
    "plt.grid(axis='y', linestyle='', alpha=0.7)\n",
    "\n",
    "# Show the plot\n",
    "plt.show()\n"
   ]
  },
  {
   "cell_type": "markdown",
   "id": "d8bf4e3a",
   "metadata": {},
   "source": [
    "## Top Rated Movies:\n",
    "Next, I identified the top-rated movies by joining the ratings with the movies dataset and calculating the average rating for each movie that received at least 20000 ratings."
   ]
  },
  {
   "cell_type": "code",
   "execution_count": 144,
   "id": "a344204b-7ae4-44c9-ad70-3729f5b09eef",
   "metadata": {},
   "outputs": [
    {
     "name": "stdout",
     "output_type": "stream",
     "text": [
      "+-------+------------------+------------+--------------------+--------------------+\n",
      "|movieId|        avg_rating|rating_count|               title|              genres|\n",
      "+-------+------------------+------------+--------------------+--------------------+\n",
      "|    318| 4.413576004516335|       81482|Shawshank Redempt...|         Crime|Drama|\n",
      "|    858| 4.324336165187245|       52498|Godfather, The (1...|         Crime|Drama|\n",
      "|     50| 4.284353213163313|       55366|Usual Suspects, T...|Crime|Mystery|Thr...|\n",
      "|   1221|4.2617585117585115|       34188|Godfather: Part I...|         Crime|Drama|\n",
      "|    527| 4.247579083279535|       60411|Schindler's List ...|           Drama|War|\n",
      "|    904| 4.237947624243627|       20162|  Rear Window (1954)|    Mystery|Thriller|\n",
      "|   2959| 4.228310618821568|       58773|   Fight Club (1999)|Action|Crime|Dram...|\n",
      "|   1193|4.2186616007543405|       36058|One Flew Over the...|               Drama|\n",
      "|    750| 4.215804447106386|       26714|Dr. Strangelove o...|          Comedy|War|\n",
      "|   5618| 4.212267265284564|       22719|Spirited Away (Se...|Adventure|Animati...|\n",
      "|    912| 4.206563778356267|       26890|   Casablanca (1942)|       Drama|Romance|\n",
      "|    296| 4.188912039361382|       79672| Pulp Fiction (1994)|Comedy|Crime|Dram...|\n",
      "|   1213|4.1805253650920005|       32663|   Goodfellas (1990)|         Crime|Drama|\n",
      "|  58559| 4.166538211421277|       41519|Dark Knight, The ...|Action|Crime|Dram...|\n",
      "|  79132| 4.155508420105412|       38895|    Inception (2010)|Action|Crime|Dram...|\n",
      "|   2324| 4.154341841841842|       23976|Life Is Beautiful...|Comedy|Drama|Roma...|\n",
      "|   2571| 4.154099127610975|       72674|  Matrix, The (1999)|Action|Sci-Fi|Thr...|\n",
      "|    593| 4.151341616415071|       74127|Silence of the La...|Crime|Horror|Thri...|\n",
      "|   4226|4.1499575191163975|       41195|      Memento (2000)|    Mystery|Thriller|\n",
      "|   1136| 4.147655276621689|       37723|Monty Python and ...|Adventure|Comedy|...|\n",
      "+-------+------------------+------------+--------------------+--------------------+\n",
      "only showing top 20 rows\n",
      "\n"
     ]
    }
   ],
   "source": [
    "from pyspark.sql.functions import avg\n",
    "\n",
    "movie_ratings = ratings.groupBy(\"movieId\").agg(avg(\"rating\").alias(\"avg_rating\"), count(\"rating\").alias(\"rating_count\"))\n",
    "top_movies = movie_ratings.join(movies, on='movieId').filter(\"rating_count >= 20000\").orderBy(\"avg_rating\", ascending=False)\n",
    "top_movies.show()\n"
   ]
  },
  {
   "cell_type": "markdown",
   "id": "57b864db",
   "metadata": {},
   "source": [
    "## Most Active Users:\n",
    "The most active users who have rated the most movies. This was done by grouping the data by userId and counting the number of ratings."
   ]
  },
  {
   "cell_type": "code",
   "execution_count": 9,
   "id": "39563b81-6198-44c6-9cc7-8261df07bbe9",
   "metadata": {},
   "outputs": [
    {
     "name": "stdout",
     "output_type": "stream",
     "text": [
      "+------+------------+\n",
      "|userId|rating_count|\n",
      "+------+------------+\n",
      "| 72315|       32202|\n",
      "| 80974|        9178|\n",
      "|137293|        8913|\n",
      "| 33844|        7919|\n",
      "| 20055|        7488|\n",
      "|109731|        6647|\n",
      "| 92046|        6564|\n",
      "| 49403|        6553|\n",
      "| 30879|        5693|\n",
      "|115102|        5649|\n",
      "|110971|        5633|\n",
      "| 75309|        5525|\n",
      "| 78849|        5276|\n",
      "| 61010|        5244|\n",
      "| 29803|        5219|\n",
      "|122011|        5160|\n",
      "| 57548|        5066|\n",
      "| 93855|        5045|\n",
      "|103611|        4861|\n",
      "| 34987|        4831|\n",
      "+------+------------+\n",
      "only showing top 20 rows\n",
      "\n"
     ]
    }
   ],
   "source": [
    "most_active_users = ratings.groupBy(\"userId\").agg(count(\"rating\").alias(\"rating_count\")).orderBy(\"rating_count\", ascending=False)\n",
    "most_active_users.show()"
   ]
  },
  {
   "cell_type": "markdown",
   "id": "81091214",
   "metadata": {},
   "source": [
    "## Ratings Distribution by Year:\n",
    "To observe trends over time, I extracted the year from the timestamp and counted the ratings for each year."
   ]
  },
  {
   "cell_type": "code",
   "execution_count": 75,
   "id": "f38fc69a-07fe-44b0-8436-0843ae4929cb",
   "metadata": {},
   "outputs": [
    {
     "name": "stdout",
     "output_type": "stream",
     "text": [
      "+----+------------+\n",
      "|year|rating_count|\n",
      "+----+------------+\n",
      "|1995|           3|\n",
      "|1996|     1430089|\n",
      "|1997|      626206|\n",
      "|1998|      272040|\n",
      "|1999|     1059022|\n",
      "|2000|     1735458|\n",
      "|2001|     1058231|\n",
      "|2002|      776952|\n",
      "|2003|      920500|\n",
      "|2004|     1047911|\n",
      "|2005|     1613560|\n",
      "|2006|     1038413|\n",
      "|2007|      931607|\n",
      "|2008|     1018092|\n",
      "|2009|      810107|\n",
      "|2010|      792418|\n",
      "|2011|      676560|\n",
      "|2012|      635108|\n",
      "|2013|      515529|\n",
      "|2014|      478529|\n",
      "+----+------------+\n",
      "only showing top 20 rows\n",
      "\n"
     ]
    }
   ],
   "source": [
    "from pyspark.sql.functions import year, from_unixtime\n",
    "\n",
    "ratings_with_year = ratings.withColumn(\"year\", year(from_unixtime(ratings.timestamp)))\n",
    "ratings_by_year = ratings_with_year.groupBy(\"year\").agg(count(\"rating\").alias(\"rating_count\")).orderBy(\"year\")\n",
    "ratings_by_year.show()\n"
   ]
  },
  {
   "cell_type": "code",
   "execution_count": 76,
   "id": "fc0f27b2-1c72-4523-9f5e-635aa8f14b89",
   "metadata": {},
   "outputs": [
    {
     "data": {
      "image/png": "[encoded data removed]",
      "text/plain": [
       "<Figure size 1000x600 with 1 Axes>"
      ]
     },
     "metadata": {},
     "output_type": "display_data"
    }
   ],
   "source": [
    "from pyspark.sql.functions import year, from_unixtime\n",
    "import matplotlib.pyplot as plt\n",
    "\n",
    "# Assuming ratings is your original DataFrame with columns like 'timestamp' and 'rating'\n",
    "ratings_with_year = ratings.withColumn(\"year\", year(from_unixtime(ratings.timestamp)))\n",
    "ratings_by_year = ratings_with_year.groupBy(\"year\").agg(count(\"rating\").alias(\"rating_count\")).orderBy(\"year\")\n",
    "\n",
    "# Convert to Pandas DataFrame\n",
    "ratings_by_year_pd = ratings_by_year.toPandas()\n",
    "\n",
    "# Plotting\n",
    "plt.figure(figsize=(10, 6))\n",
    "plt.plot(ratings_by_year_pd['year'], ratings_by_year_pd['rating_count'], marker='o', linestyle='-', color='b', label='Rating Count')\n",
    "plt.xlabel('Year')\n",
    "plt.ylabel('Number of Ratings')\n",
    "plt.title('Number of Ratings Over the Years')\n",
    "plt.xticks(rotation=45)\n",
    "plt.grid(True, linestyle='--', alpha=0.7)\n",
    "plt.legend()\n",
    "plt.tight_layout()\n",
    "plt.show()\n"
   ]
  },
  {
   "cell_type": "markdown",
   "id": "b2e4ac81",
   "metadata": {},
   "source": [
    "We extract the year from the timestamp, group by year, and count the ratings for each year.\n",
    "This line chart shows how the number of ratings has changed over the years, indicating user activity over time.\""
   ]
  },
  {
   "cell_type": "markdown",
   "id": "73cb178b",
   "metadata": {},
   "source": [
    "## Genres Analysis:\n",
    "\n",
    "Finally, I performed a genres analysis by splitting the genres column and counting the occurrences of each genre."
   ]
  },
  {
   "cell_type": "code",
   "execution_count": 77,
   "id": "755ca13b-6646-49d3-9bdf-36409f8303b1",
   "metadata": {},
   "outputs": [
    {
     "name": "stdout",
     "output_type": "stream",
     "text": [
      "+------------------+-----+\n",
      "|             genre|count|\n",
      "+------------------+-----+\n",
      "|             Drama|25606|\n",
      "|            Comedy|16870|\n",
      "|          Thriller| 8654|\n",
      "|           Romance| 7719|\n",
      "|            Action| 7348|\n",
      "|            Horror| 5989|\n",
      "|       Documentary| 5605|\n",
      "|             Crime| 5319|\n",
      "|(no genres listed)| 5062|\n",
      "|         Adventure| 4145|\n",
      "|            Sci-Fi| 3595|\n",
      "|          Children| 2935|\n",
      "|         Animation| 2929|\n",
      "|           Mystery| 2925|\n",
      "|           Fantasy| 2731|\n",
      "|               War| 1874|\n",
      "|           Western| 1399|\n",
      "|           Musical| 1054|\n",
      "|         Film-Noir|  353|\n",
      "|              IMAX|  195|\n",
      "+------------------+-----+\n",
      "\n"
     ]
    }
   ],
   "source": [
    "from pyspark.sql.functions import explode, split\n",
    "\n",
    "genres_expanded = movies.withColumn(\"genre\", explode(split(movies.genres, \"\\\\|\")))\n",
    "genre_distribution = genres_expanded.groupBy(\"genre\").agg(count(\"genre\").alias(\"count\")).orderBy(\"count\", ascending=False)\n",
    "genre_distribution.show()\n"
   ]
  },
  {
   "cell_type": "markdown",
   "id": "fc3b0e1f",
   "metadata": {},
   "source": [
    "#  Train and Evaluate ALS Model"
   ]
  },
  {
   "cell_type": "markdown",
   "id": "95e2db36",
   "metadata": {},
   "source": [
    "## **Model-Based Collaborative Filtering**\n",
    "\n",
    "---\n",
    "\n",
    "\n",
    "\n",
    "## **Collaborative filtering**\n"
   ]
  },
  {
   "cell_type": "code",
   "execution_count": 146,
   "id": "c8f844eb",
   "metadata": {},
   "outputs": [
    {
     "name": "stdout",
     "output_type": "stream",
     "text": [
      "+------+------+----------+-----------------+\n",
      "|userId|rating| timestamp|movieID_duplicate|\n",
      "+------+------+----------+-----------------+\n",
      "|     1|   5.0|1147880044|              296|\n",
      "|     1|   3.5|1147868817|              306|\n",
      "|     1|   5.0|1147868828|              307|\n",
      "|     1|   5.0|1147878820|              665|\n",
      "|     1|   3.5|1147868510|              899|\n",
      "+------+------+----------+-----------------+\n",
      "only showing top 5 rows\n",
      "\n"
     ]
    }
   ],
   "source": [
    "#inner join the movies dataframe with the ratings dataframe on the key 'moveID'\n",
    "\n",
    "#need to create a column for movieID with a different name because two columns with the same name will exist in the joined dataframe\n",
    "ratings = ratings.withColumn('movieID_duplicate',ratings['movieID']) \n",
    "df_ratings = ratings.drop('movieId') #drop the original column\n",
    "df_ratings.show(5)\n",
    "combined = movies.join(ratings, movies['movieID'] == ratings['movieID_duplicate']) #perform the join"
   ]
  },
  {
   "cell_type": "code",
   "execution_count": 147,
   "id": "eb724f67",
   "metadata": {},
   "outputs": [
    {
     "name": "stdout",
     "output_type": "stream",
     "text": [
      "+-------+--------------------+--------------------+------+-------+------+----------+-----------------+\n",
      "|movieId|               title|              genres|userId|movieId|rating| timestamp|movieID_duplicate|\n",
      "+-------+--------------------+--------------------+------+-------+------+----------+-----------------+\n",
      "|    296| Pulp Fiction (1994)|Comedy|Crime|Dram...|     1|    296|   5.0|1147880044|              296|\n",
      "|    306|Three Colors: Red...|               Drama|     1|    306|   3.5|1147868817|              306|\n",
      "|    307|Three Colors: Blu...|               Drama|     1|    307|   5.0|1147868828|              307|\n",
      "|    665|  Underground (1995)|    Comedy|Drama|War|     1|    665|   5.0|1147878820|              665|\n",
      "|    899|Singin' in the Ra...|Comedy|Musical|Ro...|     1|    899|   3.5|1147868510|              899|\n",
      "|   1088|Dirty Dancing (1987)|Drama|Musical|Rom...|     1|   1088|   4.0|1147868495|             1088|\n",
      "|   1175| Delicatessen (1991)|Comedy|Drama|Romance|     1|   1175|   3.5|1147868826|             1175|\n",
      "|   1217|          Ran (1985)|           Drama|War|     1|   1217|   3.5|1147878326|             1217|\n",
      "|   1237|Seventh Seal, The...|               Drama|     1|   1237|   5.0|1147868839|             1237|\n",
      "|   1250|Bridge on the Riv...| Adventure|Drama|War|     1|   1250|   4.0|1147868414|             1250|\n",
      "+-------+--------------------+--------------------+------+-------+------+----------+-----------------+\n",
      "only showing top 10 rows\n",
      "\n"
     ]
    }
   ],
   "source": [
    "combined.show(10)"
   ]
  },
  {
   "cell_type": "code",
   "execution_count": 148,
   "id": "e1e199b8",
   "metadata": {},
   "outputs": [],
   "source": [
    "combined = combined.drop('movieId') #we can now drop this column because we already have a moveId columns"
   ]
  },
  {
   "cell_type": "code",
   "execution_count": 100,
   "id": "033af665",
   "metadata": {},
   "outputs": [
    {
     "name": "stdout",
     "output_type": "stream",
     "text": [
      "+--------------------+--------------------+------+------+----------+-----------------+\n",
      "|               title|              genres|userId|rating| timestamp|movieID_duplicate|\n",
      "+--------------------+--------------------+------+------+----------+-----------------+\n",
      "| Pulp Fiction (1994)|Comedy|Crime|Dram...|     1|   5.0|1147880044|              296|\n",
      "|Three Colors: Red...|               Drama|     1|   3.5|1147868817|              306|\n",
      "|Three Colors: Blu...|               Drama|     1|   5.0|1147868828|              307|\n",
      "|  Underground (1995)|    Comedy|Drama|War|     1|   5.0|1147878820|              665|\n",
      "|Singin' in the Ra...|Comedy|Musical|Ro...|     1|   3.5|1147868510|              899|\n",
      "|Dirty Dancing (1987)|Drama|Musical|Rom...|     1|   4.0|1147868495|             1088|\n",
      "| Delicatessen (1991)|Comedy|Drama|Romance|     1|   3.5|1147868826|             1175|\n",
      "|          Ran (1985)|           Drama|War|     1|   3.5|1147878326|             1217|\n",
      "|Seventh Seal, The...|               Drama|     1|   5.0|1147868839|             1237|\n",
      "|Bridge on the Riv...| Adventure|Drama|War|     1|   4.0|1147868414|             1250|\n",
      "+--------------------+--------------------+------+------+----------+-----------------+\n",
      "only showing top 10 rows\n",
      "\n"
     ]
    }
   ],
   "source": [
    "combined.show(10)"
   ]
  },
  {
   "cell_type": "code",
   "execution_count": 149,
   "id": "5eb5101d",
   "metadata": {},
   "outputs": [],
   "source": [
    "combined = combined.withColumnRenamed('movieID_duplicate', 'movieId')"
   ]
  },
  {
   "cell_type": "code",
   "execution_count": 150,
   "id": "3afefa0f",
   "metadata": {},
   "outputs": [
    {
     "name": "stdout",
     "output_type": "stream",
     "text": [
      "+--------------------+--------------------+------+------+----------+-------+\n",
      "|               title|              genres|userId|rating| timestamp|movieId|\n",
      "+--------------------+--------------------+------+------+----------+-------+\n",
      "| Pulp Fiction (1994)|Comedy|Crime|Dram...|     1|   5.0|1147880044|    296|\n",
      "|Three Colors: Red...|               Drama|     1|   3.5|1147868817|    306|\n",
      "|Three Colors: Blu...|               Drama|     1|   5.0|1147868828|    307|\n",
      "|  Underground (1995)|    Comedy|Drama|War|     1|   5.0|1147878820|    665|\n",
      "|Singin' in the Ra...|Comedy|Musical|Ro...|     1|   3.5|1147868510|    899|\n",
      "|Dirty Dancing (1987)|Drama|Musical|Rom...|     1|   4.0|1147868495|   1088|\n",
      "| Delicatessen (1991)|Comedy|Drama|Romance|     1|   3.5|1147868826|   1175|\n",
      "|          Ran (1985)|           Drama|War|     1|   3.5|1147878326|   1217|\n",
      "|Seventh Seal, The...|               Drama|     1|   5.0|1147868839|   1237|\n",
      "|Bridge on the Riv...| Adventure|Drama|War|     1|   4.0|1147868414|   1250|\n",
      "+--------------------+--------------------+------+------+----------+-------+\n",
      "only showing top 10 rows\n",
      "\n"
     ]
    }
   ],
   "source": [
    "combined.show(10)"
   ]
  },
  {
   "cell_type": "markdown",
   "id": "98b1a452",
   "metadata": {},
   "source": [
    "### **Data Split** "
   ]
  },
  {
   "cell_type": "code",
   "execution_count": 112,
   "id": "2e93650a",
   "metadata": {},
   "outputs": [],
   "source": [
    "(training, test) = combined.randomSplit([0.8, 0.2], seed=1234)"
   ]
  },
  {
   "cell_type": "markdown",
   "id": "2df68051",
   "metadata": {},
   "source": [
    "### **a) Model Training**\n",
    "\n",
    "An implementation of this algorithm is available in Spark ML."
   ]
  },
  {
   "cell_type": "code",
   "execution_count": 113,
   "id": "e235b8cb-db0b-4cae-8b0e-58fcb2b69002",
   "metadata": {},
   "outputs": [],
   "source": [
    "from pyspark.ml.recommendation import ALS\n",
    "# Train ALS model\n",
    "als = ALS(maxIter=10, regParam=0.1, userCol='userId', itemCol='movieId', ratingCol='rating', coldStartStrategy='drop')\n",
    "model = als.fit(training)\n"
   ]
  },
  {
   "cell_type": "code",
   "execution_count": 114,
   "id": "083f508d-3fd4-4427-aafd-730c6e3f2910",
   "metadata": {},
   "outputs": [],
   "source": [
    "predictions = model.transform(test)"
   ]
  },
  {
   "cell_type": "code",
   "execution_count": 115,
   "id": "15ec388e",
   "metadata": {},
   "outputs": [
    {
     "name": "stdout",
     "output_type": "stream",
     "text": [
      "+--------------------+--------------------+------+------+----------+-------+----------+\n",
      "|               title|              genres|userId|rating| timestamp|movieId|prediction|\n",
      "+--------------------+--------------------+------+------+----------+-------+----------+\n",
      "|Back to the Futur...|Adventure|Comedy|...|     1|   2.5|1147868079|   2011| 3.0983424|\n",
      "|Barbarian Invasio...|Comedy|Crime|Dram...|     1|   3.5|1147869150|   6954|  3.933387|\n",
      "|City of God (Cida...|Action|Adventure|...|     1|   5.0|1147869090|   6016| 4.1425705|\n",
      "|Dolce Vita, La (1...|               Drama|     1|   5.0|1147868865|   8154| 3.7231991|\n",
      "|Hit the Bank (Vab...|        Comedy|Crime|     1|   3.0|1147878698|   5912|  3.644559|\n",
      "|Look at Me (Comme...|Comedy|Drama|Romance|     1|   5.0|1147879538|  32591| 3.5840385|\n",
      "|M. Hulot’s Holida...|              Comedy|     1|   4.0|1147877986|   7209| 3.6580198|\n",
      "| Moulin Rouge (2001)|Drama|Musical|Rom...|     1|   3.0|1147868534|   4308| 3.6435044|\n",
      "|Night, The (Notte...|               Drama|     1|   5.0|1147878122|   4325|  3.754383|\n",
      "|Noi the Albino (N...|               Drama|     1|   4.0|1147869033|   7365| 3.7177308|\n",
      "|Pirates of the Ca...|Action|Adventure|...|     1|   3.5|1147868461|   6539| 3.5802927|\n",
      "|Requiem for a Dre...|               Drama|     1|   5.0|1147868678|   3949| 3.9645617|\n",
      "|Run Lola Run (Lol...|        Action|Crime|     1|   5.0|1147869100|   2692| 4.0223594|\n",
      "|Spanish Apartment...|Comedy|Drama|Romance|     1|   4.5|1147869191|   6370|  3.804535|\n",
      "|Spring, Summer, F...|               Drama|     1|   3.5|1147869155|   8014| 4.0147586|\n",
      "|        Tango (1998)|       Drama|Musical|     1|   4.0|1147878923|   2573| 2.9938946|\n",
      "| The Magician (1958)|               Drama|     1|   4.5|1147877967|   7940| 3.5105765|\n",
      "|Through a Glass D...|               Drama|     1|   2.5|1147869183|   7939|  3.827488|\n",
      "|Virgin Spring, Th...|         Crime|Drama|     1|   2.5|1147878050|   7820| 3.8497586|\n",
      "|101 Dalmatians (1...|Adventure|Childre...|    12|   1.0| 940801520|   1367| 2.5282989|\n",
      "+--------------------+--------------------+------+------+----------+-------+----------+\n",
      "only showing top 20 rows\n",
      "\n"
     ]
    }
   ],
   "source": [
    "predictions.show() #show the first 20 predicted ratings"
   ]
  },
  {
   "cell_type": "code",
   "execution_count": 119,
   "id": "aa2bc27e-3fb5-47a8-b9f4-7bccce7fa408",
   "metadata": {},
   "outputs": [
    {
     "name": "stdout",
     "output_type": "stream",
     "text": [
      "+--------------------+------------------+------------------+\n",
      "|               title|       avg(rating)|   avg(prediction)|\n",
      "+--------------------+------------------+------------------+\n",
      "|       Psycho (1960)| 4.050493716337522|3.9340909427730786|\n",
      "|Men in Black (a.k...| 3.587758663674894|3.4781122587619353|\n",
      "|I Love You Philli...|3.3348837209302324| 3.227427101135254|\n",
      "|O Brother, Where ...|3.8749458170784568| 3.774914410318913|\n",
      "|   Annie Hall (1977)| 4.062442748091603|3.9172617674783896|\n",
      "|Seven Beauties (P...|3.8285714285714287|3.6348508335295175|\n",
      "|Odd Couple II, Th...|2.4202127659574466|2.4537375575684486|\n",
      "|22 Jump Street (2...| 3.529045643153527|3.4136428338363456|\n",
      "|First Blood (Ramb...| 3.566234701223902| 3.473151892187614|\n",
      "|Snow White and th...|3.5867977528089887|3.4892081563727237|\n",
      "|    Elizabeth (1998)| 3.861708309122603| 3.771758656180369|\n",
      "|When We Were King...| 4.084131326949384|3.9952318658580857|\n",
      "|Night of the Livi...| 3.683755404570723| 3.545175216608831|\n",
      "|Captain Corelli's...|2.7756097560975608| 2.782482588000414|\n",
      "|Hello, Dolly! (1969)|3.2176470588235295|3.2700649093179144|\n",
      "|        Birth (2004)| 2.951923076923077| 2.924516689318877|\n",
      "|Just Before I Go ...|3.4285714285714284|3.0895733492715016|\n",
      "|Man Bites Dog (C'...|3.6693037974683542|3.6372506052632874|\n",
      "|   Deadpool 2 (2018)|3.7469806763285023|3.6820602162160734|\n",
      "|Mozart and the Wh...| 3.466666666666667|3.3521392265955607|\n",
      "+--------------------+------------------+------------------+\n",
      "only showing top 20 rows\n",
      "\n"
     ]
    }
   ],
   "source": [
    "#compare the avg actual movie rating with the average predicted movie rating\n",
    "predictions.groupBy('title').agg({'rating':'mean', 'prediction':'mean'}).show() "
   ]
  },
  {
   "cell_type": "markdown",
   "id": "3d7abb65",
   "metadata": {},
   "source": [
    "### **b) RMSE**"
   ]
  },
  {
   "cell_type": "markdown",
   "id": "b890ebce",
   "metadata": {},
   "source": [
    "**RMSE on Test Set**"
   ]
  },
  {
   "cell_type": "code",
   "execution_count": 118,
   "id": "54d2cf02",
   "metadata": {},
   "outputs": [
    {
     "name": "stdout",
     "output_type": "stream",
     "text": [
      "Root-mean-square error = 0.8033885174838004\n"
     ]
    }
   ],
   "source": [
    "evaluator = RegressionEvaluator(metricName=\"rmse\", labelCol=\"rating\", predictionCol=\"prediction\")\n",
    "rmse = evaluator.evaluate(predictions)\n",
    "print(f\"Root-mean-square error = {rmse}\")"
   ]
  },
  {
   "cell_type": "markdown",
   "id": "fcdf2de1",
   "metadata": {},
   "source": [
    "So we have an RMSE of 0.80 rating points which is pretty good."
   ]
  },
  {
   "cell_type": "markdown",
   "id": "dc1795b5",
   "metadata": {},
   "source": [
    "## Make Movie Recommendations\n",
    "To make movie recommendations, we will pick a particular user, say userId = 100, and try to recommend that user movies which they haven't seen (or rated)."
   ]
  },
  {
   "cell_type": "code",
   "execution_count": 151,
   "id": "442be8f0-1d07-4cc3-b374-981b25b2a0c4",
   "metadata": {},
   "outputs": [
    {
     "name": "stdout",
     "output_type": "stream",
     "text": [
      "59047\n"
     ]
    }
   ],
   "source": [
    "#calculate the number of different movies in the dataframe\n",
    "num_unique_movies = combined.select('movieId').distinct().count()\n",
    "print(num_unique_movies)"
   ]
  },
  {
   "cell_type": "code",
   "execution_count": 152,
   "id": "0796273d",
   "metadata": {},
   "outputs": [],
   "source": [
    "unique_movies = combined.select('movieId').distinct().alias('unique_movies') #identify these different movies and store them in a dataframe"
   ]
  },
  {
   "cell_type": "code",
   "execution_count": 153,
   "id": "e85afd34",
   "metadata": {},
   "outputs": [
    {
     "data": {
      "text/plain": [
       "4831"
      ]
     },
     "execution_count": 153,
     "metadata": {},
     "output_type": "execute_result"
    }
   ],
   "source": [
    "#identify the different movies taht userId 34987 has seen (or rated) and store them in a dataframe\n",
    "new_userId = 34987\n",
    "movies_rated = combined[combined['userId']==new_userId].select('movieId').distinct()\n",
    "movies_rated = movies_rated.withColumn('rated_movieId', movies_rated['movieId'])\n",
    "movies_rated = movies_rated.drop('movieId').alias('movies_rated')\n",
    "movies_rated.count() #count how many different movies userId = 34987 has rated"
   ]
  },
  {
   "cell_type": "code",
   "execution_count": 154,
   "id": "8e74feb1",
   "metadata": {},
   "outputs": [
    {
     "name": "stdout",
     "output_type": "stream",
     "text": [
      "+-------+-------------+\n",
      "|movieId|rated_movieId|\n",
      "+-------+-------------+\n",
      "|   1088|         1088|\n",
      "|   1580|         1580|\n",
      "|   3175|         NULL|\n",
      "|  44022|         NULL|\n",
      "| 175197|         NULL|\n",
      "|   1645|         1645|\n",
      "|    471|          471|\n",
      "|   3794|         3794|\n",
      "|   8638|         8638|\n",
      "|  33722|         NULL|\n",
      "|   2142|         NULL|\n",
      "|   2366|         NULL|\n",
      "|   6658|         6658|\n",
      "|   1959|         1959|\n",
      "|   6620|         6620|\n",
      "|  54190|        54190|\n",
      "|   3918|         NULL|\n",
      "|  68135|         NULL|\n",
      "|   1342|         1342|\n",
      "|   1591|         NULL|\n",
      "+-------+-------------+\n",
      "only showing top 20 rows\n",
      "\n"
     ]
    }
   ],
   "source": [
    "#identify which movies userId = 34987 has not yet rated by left joining the dataframe containing all the different movies in the dataset with the dataframe containing all the different movie rated by that user\n",
    "the_movies = unique_movies.join(movies_rated,unique_movies.movieId == movies_rated.rated_movieId, how = 'left')\n",
    "the_movies.show()"
   ]
  },
  {
   "cell_type": "code",
   "execution_count": 155,
   "id": "3e72f5f7",
   "metadata": {},
   "outputs": [
    {
     "name": "stdout",
     "output_type": "stream",
     "text": [
      "+-------+\n",
      "|movieId|\n",
      "+-------+\n",
      "|   3175|\n",
      "|  44022|\n",
      "| 175197|\n",
      "|  33722|\n",
      "|   2142|\n",
      "|   2366|\n",
      "|   3918|\n",
      "|  68135|\n",
      "|   1591|\n",
      "|   2122|\n",
      "|   3997|\n",
      "|  96488|\n",
      "|  31528|\n",
      "|  32460|\n",
      "|    833|\n",
      "|   4519|\n",
      "|   4900|\n",
      "|   5803|\n",
      "|   7340|\n",
      "|  97186|\n",
      "+-------+\n",
      "only showing top 20 rows\n",
      "\n"
     ]
    }
   ],
   "source": [
    "#identify the different movies not yet rated by the user through boolean indexing (selecting only movies which exist in the database that haven't been rated by userId = 100)\n",
    "unrated_movies = the_movies[the_movies['rated_movieId'].isNull()].select('movieId').distinct()\n",
    "unrated_movies.show()"
   ]
  },
  {
   "cell_type": "code",
   "execution_count": 156,
   "id": "55754b0a",
   "metadata": {},
   "outputs": [],
   "source": [
    "from pyspark.sql.functions import lit\n",
    "#make predictions (i.e. recommendations) of movie ratings for all the movies that userId = 100 hasn't rated and sort them from the highest rating to the lowest\n",
    "\n",
    "#set up the training dataframe with movieId for the unrated movies for userId = 100\n",
    "unrated_movies = unrated_movies.withColumn('userId',lit(int(new_userId))) \n",
    "\n",
    "#make predictions\n",
    "recommendations = model.transform(unrated_movies).orderBy('prediction',ascending = False)\n"
   ]
  },
  {
   "cell_type": "code",
   "execution_count": 131,
   "id": "5551b961",
   "metadata": {},
   "outputs": [
    {
     "name": "stdout",
     "output_type": "stream",
     "text": [
      "+-------+------+----------+\n",
      "|movieId|userId|prediction|\n",
      "+-------+------+----------+\n",
      "| 200930| 34987| 4.7370815|\n",
      "| 205453| 34987|  4.545529|\n",
      "| 203882| 34987| 4.5305405|\n",
      "| 196787| 34987| 4.3626275|\n",
      "| 194334| 34987|  4.352656|\n",
      "| 194434| 34987|  4.350729|\n",
      "| 192089| 34987|  4.262832|\n",
      "| 201821| 34987|  4.232757|\n",
      "| 151615| 34987|  4.213497|\n",
      "| 204302| 34987|  4.192991|\n",
      "| 143192| 34987|  4.184909|\n",
      "| 159467| 34987|  4.170185|\n",
      "| 208597| 34987| 4.1534467|\n",
      "| 166812| 34987| 4.1429358|\n",
      "| 153036| 34987|  4.130482|\n",
      "| 153038| 34987|  4.130482|\n",
      "| 150860| 34987|  4.123911|\n",
      "| 187949| 34987|   4.12147|\n",
      "| 187951| 34987|   4.12147|\n",
      "| 187947| 34987|   4.12147|\n",
      "+-------+------+----------+\n",
      "only showing top 20 rows\n",
      "\n"
     ]
    }
   ],
   "source": [
    "recommendations.show()"
   ]
  },
  {
   "cell_type": "code",
   "execution_count": 158,
   "id": "169c2c85",
   "metadata": {},
   "outputs": [
    {
     "name": "stdout",
     "output_type": "stream",
     "text": [
      "+--------------------+----------+\n",
      "|               title|prediction|\n",
      "+--------------------+----------+\n",
      "|C'est quoi la vie...| 4.7370815|\n",
      "|The Good Fight: T...|  4.545529|\n",
      "|Dead in the Water...| 4.5305405|\n",
      "|The Law and the F...| 4.3626275|\n",
      "|Les Luthiers: El ...|  4.352656|\n",
      "|   Adrenaline (1990)|  4.350729|\n",
      "|National Theatre ...|  4.262832|\n",
      "| Civilisation (1969)|  4.232757|\n",
      "|Hello Stranger (2...|  4.213497|\n",
      "|Ek Ladki Ko Dekha...|  4.192991|\n",
      "|Blow for Blow (1972)|  4.184909|\n",
      "|Fifi Howls from H...|  4.170185|\n",
      "|Punk the Capital:...| 4.1534467|\n",
      "|Seeing Red: Stori...| 4.1429358|\n",
      "|     Acéphale (1969)|  4.130482|\n",
      "|       Avetik (1992)|  4.130482|\n",
      "|    Flag Wars (2003)|  4.123911|\n",
      "| Furious Love (2010)|   4.12147|\n",
      "|Father of Lights ...|   4.12147|\n",
      "|Finger of God (2007)|   4.12147|\n",
      "+--------------------+----------+\n",
      "only showing top 20 rows\n",
      "\n"
     ]
    }
   ],
   "source": [
    "#display the movie title by inner joining the recommendations dataframe with the df_movies dataframe that contains the movie titles on the key - movieID\n",
    "recommendations.join(movies,recommendations['movieId'] == movies['movieId']).select('title','prediction').orderBy('prediction', ascending = False).show()"
   ]
  }
 ],
 "metadata": {
  "kernelspec": {
   "display_name": "Python 3 (ipykernel)",
   "language": "python",
   "name": "python3"
  },
  "language_info": {
   "codemirror_mode": {
    "name": "ipython",
    "version": 3
   },
   "file_extension": ".py",
   "mimetype": "text/x-python",
   "name": "python",
   "nbconvert_exporter": "python",
   "pygments_lexer": "ipython3",
   "version": "3.11.3"
  }
 },
 "nbformat": 4,
 "nbformat_minor": 5
}
